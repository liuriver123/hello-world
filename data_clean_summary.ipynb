{
 "cells": [
  {
   "cell_type": "markdown",
   "metadata": {},
   "source": [
    "# Pandas数据清洗总结"
   ]
  },
  {
   "cell_type": "markdown",
   "metadata": {},
   "source": [
    "### 需要清洗数据的主要类型：\n",
    " 残缺数据、错误数据、重复数据\n",
    "\n",
    "### 数据清洗方法：\n",
    "(1)不完整数据：经验推导，平均最大最下，甚至概率估计，或建立回归模型，插值法等\n",
    "(2)错误值检测，异常点检测，偏差分析，规则库等\n",
    "(3)重复值，将重复记录合并、清楚\n",
    "\n",
    "### 数据清洗的评价标准\n",
    "### (1)可信性,可信性包括精确性、完整性、一致性、有效性、唯一性等指标。\n",
    "(1)精确性：描述数据是否与其对应的客观实体的特征相一致。\n",
    "(2)完整性：描述数据是否存在缺失记录或缺失字段。\n",
    "(3)一致性：描述同一实体的同一属性的值在不同的系统是否一致。\n",
    "(4)有效性：描述数据是否满足用户定义的条件或在一定的域值范围内。\n",
    "(5)唯一性：描述数据是否存在重复记录。\n",
    "\n",
    "### (2) 数据的可用性\n",
    "数据的可用性考察指标主要包括时间性和稳定性。\n",
    "(1)时间性：描述数据是当前数据还是历史数据。\n",
    "(2)稳定性：描述数据是否是稳定的，是否在其有效期内。\n",
    "\n",
    "\n",
    "常见的数据清洗算法（属性清洗算法）\n",
    "空缺值的清洗\n",
    "对于空缺值的清洗可以采取忽略元组，人工填写空缺值，使用一个全局变量填充空缺值，使用属性的平均值、中问值、最大值、最小值或更为复杂的概率统计函数值来填充空缺值。\n",
    "\n",
    "噪声数据的清洗\n",
    "分箱(Binning)，通过考察属性值的周围值来平滑属性的值。属性值被分布到一些等深或等宽的“箱”中，用箱中属性值的平均值或中值来替换“箱”中的属性值；计算机和人工检查相结合，计算机检测可疑数据，然后对它们进行人工判断；使用简单规则库检测和修正错误；使用不同属性间的约束检测和修正错误；使用外部数据源检测和修正错误。\n",
    "\n",
    "不一致数据的清洗\n",
    "对于有些事务，所记录的数据可能存在不一致。有些数据不一致，可以使用其他材料人工加以更正。例如，数据输入时的错误可以使用纸上的记录加以更正。知识工程工具\n",
    "\n",
    "也可以用来检测违反限制的数据。例如，知道属性间的函数依赖，可以查找违反函数依赖的值。此外，数据集成也可能产生数据不一致。\n",
    "\n",
    "重复数据的清洗\n",
    "目前消除重复记录的基本思想是“排序和合并”，先将数据库中的记录排序，然后通过比较邻近记录是否相似来检测记录是否重复。\n",
    "\n",
    "消除重复记录的算法主要有：优先队列算法，近邻排序算法(Sorted—Neighborhood Method)，多趟近邻排序(Multi—Pass Sorted—Neighborhood)。"
   ]
  },
  {
   "cell_type": "markdown",
   "metadata": {},
   "source": [
    "## Series对象-类似于数组的对象"
   ]
  },
  {
   "cell_type": "code",
   "execution_count": 46,
   "metadata": {},
   "outputs": [
    {
     "name": "stdout",
     "output_type": "stream",
     "text": [
      "0    2\n",
      "1    5\n",
      "2    8\n",
      "3    9\n",
      "dtype: int64\n",
      "[2 5 8 9]\n",
      "RangeIndex(start=0, stop=4, step=1)\n",
      "a    2\n",
      "b    5\n",
      "c    8\n",
      "d    9\n",
      "dtype: int64\n",
      "c    8\n",
      "d    9\n",
      "dtype: int64\n",
      "True\n",
      "False\n"
     ]
    }
   ],
   "source": [
    "import pandas as pd\n",
    "object=pd.Series([2,5,8,9])\n",
    "print(object)\n",
    "#结果中包含一列数据和一列标签\n",
    "print(object.values) #对应的数据值\n",
    "print(object.index)#标签或索引值\n",
    "#按自己的想法构建标签\n",
    "object=pd.Series([2,5,8,9],index=['a','b','c','d'])\n",
    "print(object)\n",
    "\n",
    "#对序进行运算,保留满足要求的数据\n",
    "print(object[object>5])\n",
    "#把Series当成一个字典，使用in进行判断\n",
    "print('a' in object)\n",
    "print('8' in object)\n"
   ]
  },
  {
   "cell_type": "code",
   "execution_count": 52,
   "metadata": {},
   "outputs": [
    {
     "name": "stdout",
     "output_type": "stream",
     "text": [
      "   year  income\n",
      "0  2000    3000\n",
      "1  2001    3500\n",
      "2  2002    4500\n",
      "3  2003    6000\n",
      "   year  income  outcome\n",
      "a   NaN     NaN      NaN\n",
      "b   NaN     NaN      NaN\n",
      "c   NaN     NaN      NaN\n",
      "d   NaN     NaN      NaN\n"
     ]
    }
   ],
   "source": [
    "#DataFrame数据框，一种数据结构\n",
    "data={'year':[2000,2001,2002,2003],'income':[3000,3500,4500,6000]}\n",
    "data=pd.DataFrame(data)\n",
    "print(data)\n",
    "#标签重置\n",
    "data1=pd.DataFrame(data,columns=['year','income','outcome'],index=['a','b','c','d'])\n",
    "print(data1)"
   ]
  },
  {
   "cell_type": "code",
   "execution_count": 61,
   "metadata": {},
   "outputs": [
    {
     "name": "stdout",
     "output_type": "stream",
     "text": [
      "   year  income  outcome  money\n",
      "a   NaN     NaN      NaN      0\n",
      "b   NaN     NaN      NaN      1\n",
      "c   NaN     NaN      NaN      2\n",
      "d   NaN     NaN      NaN      3\n",
      "   year  income  outcome  money\n",
      "a   NaN     NaN      NaN    0.0\n",
      "b   NaN     NaN      NaN    1.0\n",
      "c   NaN     NaN      NaN    2.0\n",
      "d   NaN     NaN      NaN    3.0\n",
      "e   NaN     NaN      NaN    NaN\n",
      "   year  income  outcome  money\n",
      "b   NaN     NaN      NaN      1\n",
      "c   NaN     NaN      NaN      2\n",
      "d   NaN     NaN      NaN      3\n",
      "   year  income  outcome  money\n",
      "d   NaN     NaN      NaN      3\n",
      "   one  four  two  three  five\n",
      "c    0     1    2      3     4\n",
      "a    5     6    7      8     9\n",
      "   one  four  two  three  five\n",
      "a    5     6    7      8     9\n",
      "c    0     1    2      3     4\n",
      "   five  four  one  three  two\n",
      "c     4     1    0      3    2\n",
      "a     9     6    5      8    7\n"
     ]
    }
   ],
   "source": [
    "data1['money']=np.arange(4)\n",
    "print(data1)\n",
    "#重建索引\n",
    "data2=data1.reindex(['a','b','c','d','e'])\n",
    "print(data2)\n",
    "#索引删除以及过滤的方法\n",
    "print(data1.drop(['a']))\n",
    "print(data1[data1['money']>2])\n",
    "\n",
    "#对DataFrame进行排序\n",
    "\n",
    "data=pd.DataFrame(np.arange(10).reshape((2,5)),index=['c','a'],\n",
    "                  columns=['one','four','two','three','five'])\n",
    "print(data)\n",
    "#默认对行进行排序\n",
    "print(data.sort_index())\n",
    "\n",
    "#默认对列进行排序\n",
    "print(data.sort_index(axis=1))\n"
   ]
  },
  {
   "cell_type": "markdown",
   "metadata": {},
   "source": [
    "## 汇总及统计描述"
   ]
  },
  {
   "cell_type": "code",
   "execution_count": 69,
   "metadata": {},
   "outputs": [
    {
     "name": "stdout",
     "output_type": "stream",
     "text": [
      "   one  four  two  three  five\n",
      "c    0     1    2      3     4\n",
      "a    5     6    7      8     9\n",
      "一次性输出多个描述性指标\n",
      "            one      four       two     three      five\n",
      "count  2.000000  2.000000  2.000000  2.000000  2.000000\n",
      "mean   2.500000  3.500000  4.500000  5.500000  6.500000\n",
      "std    3.535534  3.535534  3.535534  3.535534  3.535534\n",
      "min    0.000000  1.000000  2.000000  3.000000  4.000000\n",
      "25%    1.250000  2.250000  3.250000  4.250000  5.250000\n",
      "50%    2.500000  3.500000  4.500000  5.500000  6.500000\n",
      "75%    3.750000  4.750000  5.750000  6.750000  7.750000\n",
      "max    5.000000  6.000000  7.000000  8.000000  9.000000\n",
      "one       5\n",
      "four      7\n",
      "two       9\n",
      "three    11\n",
      "five     13\n",
      "dtype: int64\n",
      "c    10\n",
      "a    35\n",
      "dtype: int64\n",
      "各指标最小值\n",
      "one      0\n",
      "four     1\n",
      "two      2\n",
      "three    3\n",
      "five     4\n",
      "dtype: int32\n",
      "各指标方差var\n",
      "one      12.5\n",
      "four     12.5\n",
      "two      12.5\n",
      "three    12.5\n",
      "five     12.5\n",
      "dtype: float64\n",
      "各指标或各维度的众数\n",
      "   one  four  two  three  five\n",
      "0    0     1    2      3     4\n",
      "1    5     6    7      8     9\n",
      "非空元素计算\n",
      "one      2\n",
      "four     2\n",
      "two      2\n",
      "three    2\n",
      "five     2\n",
      "dtype: int64\n"
     ]
    }
   ],
   "source": [
    "data=pd.DataFrame(np.arange(10).reshape((2,5)),index=['c','a'],\n",
    "columns=['one','four','two','three','five'])\n",
    "print(data)\n",
    "#统计描述\n",
    "print(\"一次性输出多个描述性指标\")\n",
    "print(data.describe())\n",
    "#对各个指标下的数据求和\n",
    "print(data.sum())\n",
    "#对个索引求和\n",
    "print(data.sum(axis=1))\n",
    "\n",
    "#求各个指标的\n",
    "print(\"各指标最小值\")\n",
    "print(data.min())\n",
    "print(\"各指标方差var\")\n",
    "print(data.var())\n",
    "print(\"各指标或各维度的众数\")\n",
    "print(data.mode())\n",
    "print(\"非空元素计算\")\n",
    "print(data.count())"
   ]
  },
  {
   "cell_type": "markdown",
   "metadata": {},
   "source": [
    "### 相关系数与协方差"
   ]
  },
  {
   "cell_type": "code",
   "execution_count": 72,
   "metadata": {},
   "outputs": [
    {
     "name": "stdout",
     "output_type": "stream",
     "text": [
      "        one      four       two     three      five\n",
      "c  0.194879  0.329147  0.967115  0.674350  0.275277\n",
      "a  0.426067  0.840322  0.224656  0.937782  0.611792\n",
      "b  0.196726  0.897771  0.260533  0.663372  0.207867\n",
      "c  0.039813  0.977257  0.514693  0.134688  0.272775\n",
      "0.9341174441749929\n",
      "one      1.000000\n",
      "four    -0.106747\n",
      "two     -0.402354\n",
      "three    0.934117\n",
      "five     0.835847\n",
      "dtype: float64\n"
     ]
    }
   ],
   "source": [
    "data=pd.DataFrame(np.random.random(20).reshape((4,5)),index=['c','a','b','c'],\n",
    "                  columns=['one','four','two','three','five'])\n",
    "print(data)\n",
    "#输出one和three的相关系数\n",
    "print(data.one.corr(data.three))\n",
    "#输出one和three的协方差\n",
    "print(data.corrwith(data.one))\n"
   ]
  },
  {
   "cell_type": "markdown",
   "metadata": {},
   "source": [
    "### 成员信息统计相关 "
   ]
  },
  {
   "cell_type": "code",
   "execution_count": 79,
   "metadata": {},
   "outputs": [
    {
     "name": "stdout",
     "output_type": "stream",
     "text": [
      "['a' 'b' 'c' 'd']\n",
      "0    False\n",
      "1    False\n",
      "2     True\n",
      "3     True\n",
      "4     True\n",
      "5    False\n",
      "6    False\n",
      "7    False\n",
      "dtype: bool\n",
      "c    1\n",
      "d    2\n",
      "a    2\n",
      "b    3\n",
      "dtype: int64\n",
      "0    False\n",
      "1    False\n",
      "2    False\n",
      "3     True\n",
      "4    False\n",
      "5    False\n",
      "6     True\n",
      "7    False\n",
      "dtype: bool\n",
      "0    a\n",
      "1    a\n",
      "2    b\n",
      "4    b\n",
      "5    c\n",
      "7    d\n",
      "dtype: object\n",
      "0    a\n",
      "1    a\n",
      "2    b\n",
      "3    b\n",
      "4    b\n",
      "5    c\n",
      "6    c\n",
      "7    d\n",
      "dtype: object\n",
      "0    a\n",
      "1    a\n",
      "2    b\n",
      "3    0\n",
      "4    b\n",
      "5    c\n",
      "6    0\n",
      "7    d\n",
      "dtype: object\n"
     ]
    }
   ],
   "source": [
    "data=pd.Series(['a','a','b','b','b','c','d','d'])\n",
    "#\n",
    "print(data.unique())\n",
    "print(data.isin(['b']))\n",
    "print(pd.value_counts(data.values,sort=False))\n",
    "\n",
    "#缺失值处理\n",
    "data=pd.Series(['a','a','b',np.nan,'b','c',np.nan,'d'])\n",
    "print(data.isnull())\n",
    "#根据标签对缺失值进行过滤\n",
    "print(data.dropna())\n",
    "#用指定的方法填充缺失值\n",
    "print(data.ffill())\n",
    "#用0进行填充\n",
    "print(data.fillna(0))\n",
    "\n"
   ]
  },
  {
   "cell_type": "markdown",
   "metadata": {},
   "source": [
    "## 数据合并"
   ]
  },
  {
   "cell_type": "code",
   "execution_count": 17,
   "metadata": {},
   "outputs": [
    {
     "data": {
      "text/html": [
       "<div>\n",
       "<style scoped>\n",
       "    .dataframe tbody tr th:only-of-type {\n",
       "        vertical-align: middle;\n",
       "    }\n",
       "\n",
       "    .dataframe tbody tr th {\n",
       "        vertical-align: top;\n",
       "    }\n",
       "\n",
       "    .dataframe thead th {\n",
       "        text-align: right;\n",
       "    }\n",
       "</style>\n",
       "<table border=\"1\" class=\"dataframe\">\n",
       "  <thead>\n",
       "    <tr style=\"text-align: right;\">\n",
       "      <th></th>\n",
       "      <th>key</th>\n",
       "      <th>data1</th>\n",
       "    </tr>\n",
       "  </thead>\n",
       "  <tbody>\n",
       "    <tr>\n",
       "      <th>0</th>\n",
       "      <td>b</td>\n",
       "      <td>0</td>\n",
       "    </tr>\n",
       "    <tr>\n",
       "      <th>1</th>\n",
       "      <td>b</td>\n",
       "      <td>1</td>\n",
       "    </tr>\n",
       "    <tr>\n",
       "      <th>2</th>\n",
       "      <td>a</td>\n",
       "      <td>2</td>\n",
       "    </tr>\n",
       "    <tr>\n",
       "      <th>3</th>\n",
       "      <td>c</td>\n",
       "      <td>3</td>\n",
       "    </tr>\n",
       "    <tr>\n",
       "      <th>4</th>\n",
       "      <td>a</td>\n",
       "      <td>4</td>\n",
       "    </tr>\n",
       "    <tr>\n",
       "      <th>5</th>\n",
       "      <td>a</td>\n",
       "      <td>5</td>\n",
       "    </tr>\n",
       "    <tr>\n",
       "      <th>6</th>\n",
       "      <td>b</td>\n",
       "      <td>6</td>\n",
       "    </tr>\n",
       "  </tbody>\n",
       "</table>\n",
       "</div>"
      ],
      "text/plain": [
       "  key  data1\n",
       "0   b      0\n",
       "1   b      1\n",
       "2   a      2\n",
       "3   c      3\n",
       "4   a      4\n",
       "5   a      5\n",
       "6   b      6"
      ]
     },
     "execution_count": 17,
     "metadata": {},
     "output_type": "execute_result"
    }
   ],
   "source": [
    "import numpy as np\n",
    "import pandas as pd\n",
    "import pandas as pd\n",
    "import numpy as np\n",
    "df1 = pd.DataFrame({'key':['b','b','a','c','a','a','b'],'data1': range(7)})\n",
    "df1"
   ]
  },
  {
   "cell_type": "code",
   "execution_count": 18,
   "metadata": {},
   "outputs": [
    {
     "data": {
      "text/html": [
       "<div>\n",
       "<style scoped>\n",
       "    .dataframe tbody tr th:only-of-type {\n",
       "        vertical-align: middle;\n",
       "    }\n",
       "\n",
       "    .dataframe tbody tr th {\n",
       "        vertical-align: top;\n",
       "    }\n",
       "\n",
       "    .dataframe thead th {\n",
       "        text-align: right;\n",
       "    }\n",
       "</style>\n",
       "<table border=\"1\" class=\"dataframe\">\n",
       "  <thead>\n",
       "    <tr style=\"text-align: right;\">\n",
       "      <th></th>\n",
       "      <th>key</th>\n",
       "      <th>data2</th>\n",
       "    </tr>\n",
       "  </thead>\n",
       "  <tbody>\n",
       "    <tr>\n",
       "      <th>0</th>\n",
       "      <td>a</td>\n",
       "      <td>0</td>\n",
       "    </tr>\n",
       "    <tr>\n",
       "      <th>1</th>\n",
       "      <td>b</td>\n",
       "      <td>1</td>\n",
       "    </tr>\n",
       "    <tr>\n",
       "      <th>2</th>\n",
       "      <td>d</td>\n",
       "      <td>2</td>\n",
       "    </tr>\n",
       "  </tbody>\n",
       "</table>\n",
       "</div>"
      ],
      "text/plain": [
       "  key  data2\n",
       "0   a      0\n",
       "1   b      1\n",
       "2   d      2"
      ]
     },
     "execution_count": 18,
     "metadata": {},
     "output_type": "execute_result"
    }
   ],
   "source": [
    "df2 = pd.DataFrame({'key':['a','b','d'],'data2':range(3)})\n",
    "df2"
   ]
  },
  {
   "cell_type": "code",
   "execution_count": 16,
   "metadata": {},
   "outputs": [
    {
     "data": {
      "text/html": [
       "<div>\n",
       "<style scoped>\n",
       "    .dataframe tbody tr th:only-of-type {\n",
       "        vertical-align: middle;\n",
       "    }\n",
       "\n",
       "    .dataframe tbody tr th {\n",
       "        vertical-align: top;\n",
       "    }\n",
       "\n",
       "    .dataframe thead th {\n",
       "        text-align: right;\n",
       "    }\n",
       "</style>\n",
       "<table border=\"1\" class=\"dataframe\">\n",
       "  <thead>\n",
       "    <tr style=\"text-align: right;\">\n",
       "      <th></th>\n",
       "      <th>key</th>\n",
       "      <th>data1</th>\n",
       "      <th>data2</th>\n",
       "    </tr>\n",
       "  </thead>\n",
       "  <tbody>\n",
       "    <tr>\n",
       "      <th>0</th>\n",
       "      <td>b</td>\n",
       "      <td>0</td>\n",
       "      <td>1</td>\n",
       "    </tr>\n",
       "    <tr>\n",
       "      <th>1</th>\n",
       "      <td>b</td>\n",
       "      <td>1</td>\n",
       "      <td>1</td>\n",
       "    </tr>\n",
       "    <tr>\n",
       "      <th>2</th>\n",
       "      <td>b</td>\n",
       "      <td>6</td>\n",
       "      <td>1</td>\n",
       "    </tr>\n",
       "    <tr>\n",
       "      <th>3</th>\n",
       "      <td>a</td>\n",
       "      <td>2</td>\n",
       "      <td>0</td>\n",
       "    </tr>\n",
       "    <tr>\n",
       "      <th>4</th>\n",
       "      <td>a</td>\n",
       "      <td>4</td>\n",
       "      <td>0</td>\n",
       "    </tr>\n",
       "    <tr>\n",
       "      <th>5</th>\n",
       "      <td>a</td>\n",
       "      <td>5</td>\n",
       "      <td>0</td>\n",
       "    </tr>\n",
       "  </tbody>\n",
       "</table>\n",
       "</div>"
      ],
      "text/plain": [
       "  key  data1  data2\n",
       "0   b      0      1\n",
       "1   b      1      1\n",
       "2   b      6      1\n",
       "3   a      2      0\n",
       "4   a      4      0\n",
       "5   a      5      0"
      ]
     },
     "execution_count": 16,
     "metadata": {},
     "output_type": "execute_result"
    }
   ],
   "source": [
    "pd.merge(df1,df2)"
   ]
  },
  {
   "cell_type": "code",
   "execution_count": 20,
   "metadata": {},
   "outputs": [
    {
     "name": "stdout",
     "output_type": "stream",
     "text": [
      "  level  number  number2\n",
      "0     a     1.0      2.0\n",
      "1     b     3.0      NaN\n",
      "2     c     5.0      6.0\n",
      "3     d     NaN     10.0\n"
     ]
    }
   ],
   "source": [
    "#重叠数据合并\n",
    "data3=pd.DataFrame({'level':['a','b','c','d'],'number':[1,3,5,np.nan]})\n",
    "data4=pd.DataFrame({'level':['a','b','c','e'],'number2':[2,np.nan,6,10]})\n",
    "print(data3.combine_first(data4))\n",
    "\n"
   ]
  },
  {
   "cell_type": "markdown",
   "metadata": {},
   "source": [
    "## 数据重塑和轴向旋转"
   ]
  },
  {
   "cell_type": "markdown",
   "metadata": {},
   "source": [
    "数据重塑主要使用reshape函数，旋转主要使用unstack和stack两个函数"
   ]
  },
  {
   "cell_type": "code",
   "execution_count": 21,
   "metadata": {},
   "outputs": [
    {
     "name": "stdout",
     "output_type": "stream",
     "text": [
      "       a  b   c   d\n",
      "wang   0  1   2   3\n",
      "li     4  5   6   7\n",
      "zhang  8  9  10  11\n"
     ]
    }
   ],
   "source": [
    "data=pd.DataFrame(np.arange(12).reshape(3,4),columns=['a','b','c','d'],index=['wang','li','zhang'])\n",
    "print(data)"
   ]
  },
  {
   "cell_type": "code",
   "execution_count": 22,
   "metadata": {},
   "outputs": [
    {
     "name": "stdout",
     "output_type": "stream",
     "text": [
      "a  wang      0\n",
      "   li        4\n",
      "   zhang     8\n",
      "b  wang      1\n",
      "   li        5\n",
      "   zhang     9\n",
      "c  wang      2\n",
      "   li        6\n",
      "   zhang    10\n",
      "d  wang      3\n",
      "   li        7\n",
      "   zhang    11\n",
      "dtype: int32\n"
     ]
    }
   ],
   "source": [
    "#数据旋转\n",
    "print(data.unstack())"
   ]
  },
  {
   "cell_type": "markdown",
   "metadata": {},
   "source": [
    "## 数据转换"
   ]
  },
  {
   "cell_type": "code",
   "execution_count": 28,
   "metadata": {},
   "outputs": [
    {
     "name": "stdout",
     "output_type": "stream",
     "text": [
      "   a  b\n",
      "0  1  1\n",
      "1  3  3\n",
      "2  3  3\n",
      "3  4  5\n",
      "重复行检测:\n",
      "0    False\n",
      "1    False\n",
      "2     True\n",
      "3    False\n",
      "dtype: bool\n",
      "用drop_duplicates去除重复行\n",
      "   a  b\n",
      "0  1  1\n",
      "1  3  3\n",
      "3  4  5\n",
      "数据替换结果\n",
      "   a  b\n",
      "0  2  2\n",
      "1  3  3\n",
      "2  3  3\n",
      "3  4  5\n"
     ]
    }
   ],
   "source": [
    "#删除重复行数据\n",
    "data=pd.DataFrame({'a':[1,3,3,4],'b':[1,3,3,5]})\n",
    "print(data)\n",
    "print(\"重复行检测:\")\n",
    "print(data.duplicated())\n",
    "print(\"用drop_duplicates去除重复行\")\n",
    "print(data.drop_duplicates())\n",
    "print(\"数据替换结果\")\n",
    "print(data.replace(1,2))#第一行全部替换成了2\n"
   ]
  },
  {
   "cell_type": "markdown",
   "metadata": {},
   "source": [
    "## 数据分段"
   ]
  },
  {
   "cell_type": "code",
   "execution_count": 34,
   "metadata": {},
   "outputs": [
    {
     "name": "stdout",
     "output_type": "stream",
     "text": [
      "[11, 15, 18, 120, 25, 26, 27, 24]\n",
      "[NaN, NaN, (15, 20], NaN, (20, 25], NaN, NaN, (20, 25]]\n",
      "Categories (2, interval[int64]): [(15, 20] < (20, 25]]\n"
     ]
    }
   ],
   "source": [
    "data=[11,15,18,120,25,26,27,24]\n",
    "bins=[15,20,25]\n",
    "print(data)\n",
    "print(pd.cut(data,bins)) #bins相邻数据给出了段的描述"
   ]
  },
  {
   "cell_type": "markdown",
   "metadata": {},
   "source": [
    "## 排列和采样"
   ]
  },
  {
   "cell_type": "code",
   "execution_count": 37,
   "metadata": {},
   "outputs": [
    {
     "name": "stdout",
     "output_type": "stream",
     "text": [
      "[2 0 3 4 1]\n",
      "   0   1   2\n",
      "0  0   1   2\n",
      "1  3   4   5\n",
      "2  6   7   8\n",
      "3  9  10  11\n",
      "[1 2 0]\n"
     ]
    }
   ],
   "source": [
    "data=np.random.permutation(5)\n",
    "print(data)#5以内的数，随机排序\n",
    "#对数据进行采样\n",
    "df=pd.DataFrame(np.arange(12).reshape(4,3))\n",
    "samp=np.random.permutation(3)\n",
    "print(df)\n",
    "print(samp)"
   ]
  },
  {
   "cell_type": "code",
   "execution_count": null,
   "metadata": {},
   "outputs": [],
   "source": []
  }
 ],
 "metadata": {
  "kernelspec": {
   "display_name": "Python 3",
   "language": "python",
   "name": "python3"
  },
  "language_info": {
   "codemirror_mode": {
    "name": "ipython",
    "version": 3
   },
   "file_extension": ".py",
   "mimetype": "text/x-python",
   "name": "python",
   "nbconvert_exporter": "python",
   "pygments_lexer": "ipython3",
   "version": "3.6.5"
  }
 },
 "nbformat": 4,
 "nbformat_minor": 2
}
